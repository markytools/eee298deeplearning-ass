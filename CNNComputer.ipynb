{
 "cells": [
  {
   "cell_type": "code",
   "execution_count": 2,
   "metadata": {},
   "outputs": [],
   "source": [
    "import math\n",
    "\n",
    "### SAME FOR BOTH CONV2D AND MAXPOOL2D\n",
    "# a = (h, w) of input\n",
    "# k = (h, w) of kernel/filter\n",
    "# s = (y, x) stride\n",
    "# p = (y, x) padding\n",
    "# d = (y, x) dilation\n",
    "def computeConvOutput(a, k, s=(1,1), p=(0,0), d=(1,1)):\n",
    "    input_h = a[0]\n",
    "    input_w = a[1]\n",
    "    out_h = math.floor(((input_h + 2*p[0] - d[0]*(k[0]-1) - 1) / s[0]) + 1)\n",
    "    out_w = math.floor(((input_w + 2*p[1] - d[1]*(k[1]-1) - 1) / s[1]) + 1)\n",
    "    print(\"Output dims (h,w): ({%d}, {%d}): \" % (out_h, out_w))"
   ]
  },
  {
   "cell_type": "code",
   "execution_count": 6,
   "metadata": {},
   "outputs": [
    {
     "name": "stdout",
     "output_type": "stream",
     "text": [
      "Output dims (h,w): ({64}, {64}): \n"
     ]
    }
   ],
   "source": [
    "computeConvOutput(a=(128, 128), k=(3, 3), s=(2,2), p=(1,1))"
   ]
  },
  {
   "cell_type": "code",
   "execution_count": null,
   "metadata": {},
   "outputs": [],
   "source": []
  }
 ],
 "metadata": {
  "kernelspec": {
   "display_name": "Python 3",
   "language": "python",
   "name": "python3"
  },
  "language_info": {
   "codemirror_mode": {
    "name": "ipython",
    "version": 3
   },
   "file_extension": ".py",
   "mimetype": "text/x-python",
   "name": "python",
   "nbconvert_exporter": "python",
   "pygments_lexer": "ipython3",
   "version": "3.6.9"
  }
 },
 "nbformat": 4,
 "nbformat_minor": 2
}
